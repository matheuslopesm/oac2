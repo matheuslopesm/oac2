{
  "nbformat": 4,
  "nbformat_minor": 0,
  "metadata": {
    "colab": {
      "provenance": [],
      "gpuType": "T4"
    },
    "kernelspec": {
      "name": "python3",
      "display_name": "Python 3"
    },
    "language_info": {
      "name": "python"
    },
    "accelerator": "GPU"
  },
  "cells": [
    {
      "cell_type": "code",
      "execution_count": 1,
      "metadata": {
        "colab": {
          "base_uri": "https://localhost:8080/"
        },
        "id": "DvR3MSJ3WoJK",
        "outputId": "5ae64d54-38fe-4333-bac3-6d6e75db12c5"
      },
      "outputs": [
        {
          "output_type": "stream",
          "name": "stdout",
          "text": [
            "Collecting nvcc4jupyter\n",
            "  Downloading nvcc4jupyter-1.2.1-py3-none-any.whl.metadata (5.1 kB)\n",
            "Downloading nvcc4jupyter-1.2.1-py3-none-any.whl (10 kB)\n",
            "Installing collected packages: nvcc4jupyter\n",
            "Successfully installed nvcc4jupyter-1.2.1\n",
            "Detected platform \"Colab\". Running its setup...\n",
            "Source files will be saved in \"/tmp/tmp7hv9zn7b\".\n"
          ]
        }
      ],
      "source": [
        "!pip install nvcc4jupyter\n",
        "%load_ext nvcc4jupyter"
      ]
    },
    {
      "cell_type": "code",
      "source": [
        "%%cuda\n",
        "#include <stdio.h>\n",
        "#include <stdlib.h>\n",
        "#include <cuda.h>\n",
        "\n",
        "#define TAMANHO 3\n",
        "\n",
        "__global__ void multiplicaMatriz(int* matrizA, int* matrizB, int* matrizC, int tamanho) {\n",
        "    int i = blockIdx.y * blockDim.y + threadIdx.y;\n",
        "    int j = blockIdx.x * blockDim.x + threadIdx.x;\n",
        "    int soma = 0;\n",
        "\n",
        "    if (i < tamanho && j < tamanho) {\n",
        "        for (int tam = 0; tam < tamanho; tam++) {\n",
        "            soma = soma + matrizA[i * tamanho + tam] * matrizB[tam * tamanho + j];\n",
        "        }\n",
        "        matrizC[i * tamanho + j] = soma;\n",
        "    }\n",
        "}\n",
        "\n",
        "void criaMatriz(int* matriz, int tamanho) {\n",
        "    for (int i = 0; i < tamanho * tamanho; i++) {\n",
        "        matriz[i] = rand() % 10;\n",
        "    }\n",
        "}\n",
        "\n",
        "void imprimeMatriz(int* matriz, int tamanho) {\n",
        "    for (int i = 0; i < tamanho; i++) {\n",
        "        for (int j = 0; j < tamanho; j++) {\n",
        "            printf(\"%d \", matriz[i * tamanho + j]);\n",
        "        }\n",
        "        printf(\"\\n\");\n",
        "    }\n",
        "}\n",
        "\n",
        "int main() {\n",
        "    srand(time(NULL));\n",
        "    int size = TAMANHO * TAMANHO * sizeof(int);\n",
        "\n",
        "    int* h_A = (int*)malloc(size);\n",
        "    int* h_B = (int*)malloc(size);\n",
        "    int* h_C = (int*)malloc(size);\n",
        "\n",
        "    criaMatriz(h_A, TAMANHO);\n",
        "    criaMatriz(h_B, TAMANHO);\n",
        "\n",
        "    printf(\"Matriz A aleatória:\\n\");\n",
        "    imprimeMatriz(h_A, TAMANHO);\n",
        "\n",
        "    printf(\"\\nMatriz B aleatória:\\n\");\n",
        "    imprimeMatriz(h_B, TAMANHO);\n",
        "\n",
        "    int* d_A;\n",
        "    int* d_B;\n",
        "    int* d_C;\n",
        "    cudaMalloc(&d_A, size);\n",
        "    cudaMalloc(&d_B, size);\n",
        "    cudaMalloc(&d_C, size);\n",
        "\n",
        "    cudaMemcpy(d_A, h_A, size, cudaMemcpyHostToDevice);\n",
        "    cudaMemcpy(d_B, h_B, size, cudaMemcpyHostToDevice);\n",
        "\n",
        "    dim3 threadsPerBlock(TAMANHO, TAMANHO);\n",
        "    dim3 blocksPerGrid(1, 1);\n",
        "\n",
        "    multiplicaMatriz<<<blocksPerGrid, threadsPerBlock>>>(d_A, d_B, d_C, TAMANHO);\n",
        "    cudaDeviceSynchronize();\n",
        "\n",
        "    cudaMemcpy(h_C, d_C, size, cudaMemcpyDeviceToHost);\n",
        "\n",
        "    printf(\"\\nMatriz C - Resultado:\\n\");\n",
        "    imprimeMatriz(h_C, TAMANHO);\n",
        "\n",
        "    // Liberando memória\n",
        "    free(h_A);\n",
        "    free(h_B);\n",
        "    free(h_C);\n",
        "    cudaFree(d_A);\n",
        "    cudaFree(d_B);\n",
        "    cudaFree(d_C);\n",
        "\n",
        "    return 0;\n",
        "}\n"
      ],
      "metadata": {
        "colab": {
          "base_uri": "https://localhost:8080/"
        },
        "id": "d6GhC0n-Y7VL",
        "outputId": "46d3b8e0-a10c-4f8b-9837-f67d65322b6e"
      },
      "execution_count": 5,
      "outputs": [
        {
          "output_type": "stream",
          "name": "stdout",
          "text": [
            "Matriz A aleatória:\n",
            "6 6 0 \n",
            "6 2 4 \n",
            "1 4 7 \n",
            "\n",
            "Matriz B aleatória:\n",
            "1 0 7 \n",
            "5 4 5 \n",
            "0 9 6 \n",
            "\n",
            "Matriz C - Resultado:\n",
            "36 24 72 \n",
            "16 44 76 \n",
            "21 79 69 \n",
            "\n"
          ]
        }
      ]
    }
  ]
}